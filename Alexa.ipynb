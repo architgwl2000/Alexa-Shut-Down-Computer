{
 "cells": [
  {
   "cell_type": "code",
   "execution_count": 1,
   "metadata": {},
   "outputs": [],
   "source": [
    "import time\n",
    "import os\n",
    "import pyttsx3\n",
    "import speech_recognition as sr\n",
    "src = sr.Recognizer()"
   ]
  },
  {
   "cell_type": "code",
   "execution_count": 2,
   "metadata": {},
   "outputs": [],
   "source": [
    "def speak(text):\n",
    "    engine = pyttsx3.init('sapi5')\n",
    "    voices = engine.getProperty('voices')\n",
    "    engine.setProperty('voice', voices[1].id) \n",
    "    engine.say(text)\n",
    "    engine.runAndWait()"
   ]
  },
  {
   "cell_type": "code",
   "execution_count": 3,
   "metadata": {},
   "outputs": [],
   "source": [
    "def listen():\n",
    "    with sr.Microphone() as source:\n",
    "        print(\"Input => \",end = \"\")\n",
    "        src.pause_threshold = 0.7 \n",
    "        inp_audio = src.listen(source)\n",
    "        try:\n",
    "            inp_text = src.recognize_google(inp_audio, language = 'en-in')\n",
    "            print(inp_text)\n",
    "            inp_text = inp_text.lower().split()\n",
    "        except Exception as e:\n",
    "            print(e)\n",
    "            print(\"Alexa => Sorry, I couldn't hear you. Can you please Repeat Again.\")\n",
    "            speak(\"Sorry, I couldn't hear you. Can you please Repeat Again.\")\n",
    "            return \"None\"\n",
    "    return inp_text"
   ]
  },
  {
   "cell_type": "code",
   "execution_count": 4,
   "metadata": {},
   "outputs": [],
   "source": [
    "def quit():\n",
    "    print(\"Alexa => Are you sure you want to shutdown this system ?\")\n",
    "    speak(\"Are you sure you want to shutdown this system ?\")\n",
    "    command = listen()\n",
    "    if command[0] == \"yes\":\n",
    "        print(\"Alexa => Shutiing Down in 3 seconds.\")\n",
    "        speak(\"Shutiing Down in 3 seconds.\")\n",
    "        time.sleep(3)\n",
    "        print(\"Alexa => Shutting Down.\")\n",
    "        speak(\"Shutting Down.\")\n",
    "        os.system(\"shutdown /s /t 1\")\n",
    "    elif command[0] == \"no\":\n",
    "        print(\"Alexa => OK! Cancelling the Request.\")\n",
    "        speak(\"OK! Cancelling the Request.\")"
   ]
  },
  {
   "cell_type": "code",
   "execution_count": 5,
   "metadata": {},
   "outputs": [],
   "source": [
    "def Alexa():\n",
    "    inp_text = listen()\n",
    "    if 'alexa' in inp_text:\n",
    "        alexa_id = inp_text.index('alexa')\n",
    "        if inp_text[alexa_id - 1] == 'hey' or inp_text[alexa_id - 1] == 'hi':\n",
    "            print(\"Alexa => Activated\")\n",
    "            speak(\"Activated\")\n",
    "            print(\"Alexa => What can I do for you?\")\n",
    "            speak(\"What can I do for you?\")\n",
    "            shut = listen()\n",
    "            if 'shutdown' in shut:\n",
    "                quit()"
   ]
  },
  {
   "cell_type": "code",
   "execution_count": null,
   "metadata": {},
   "outputs": [],
   "source": [
    "Alexa()"
   ]
  }
 ],
 "metadata": {
  "kernelspec": {
   "display_name": "Python 3",
   "language": "python",
   "name": "python3"
  },
  "language_info": {
   "codemirror_mode": {
    "name": "ipython",
    "version": 3
   },
   "file_extension": ".py",
   "mimetype": "text/x-python",
   "name": "python",
   "nbconvert_exporter": "python",
   "pygments_lexer": "ipython3",
   "version": "3.7.6"
  }
 },
 "nbformat": 4,
 "nbformat_minor": 4
}
